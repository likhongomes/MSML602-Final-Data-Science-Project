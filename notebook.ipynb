{
 "cells": [
  {
   "cell_type": "markdown",
   "metadata": {},
   "source": [
    "Import all necessary packages"
   ]
  },
  {
   "cell_type": "code",
   "execution_count": 28,
   "metadata": {},
   "outputs": [],
   "source": [
    "import pandas as pd\n",
    "from sklearn.model_selection import train_test_split"
   ]
  },
  {
   "cell_type": "markdown",
   "metadata": {},
   "source": [
    "Import Credit Card Transaction File to Notebook"
   ]
  },
  {
   "cell_type": "code",
   "execution_count": 18,
   "metadata": {},
   "outputs": [],
   "source": [
    "file_path = 'credit_card_transactions.csv'\n",
    "df = pd.read_csv(file_path)"
   ]
  },
  {
   "cell_type": "markdown",
   "metadata": {},
   "source": [
    "Data Cleaning"
   ]
  },
  {
   "cell_type": "code",
   "execution_count": 19,
   "metadata": {},
   "outputs": [
    {
     "data": {
      "text/plain": [
       "Unnamed: 0               1296675\n",
       "trans_date_trans_time    1296675\n",
       "cc_num                   1296675\n",
       "merchant                 1296675\n",
       "category                 1296675\n",
       "amt                      1296675\n",
       "first                    1296675\n",
       "last                     1296675\n",
       "gender                   1296675\n",
       "street                   1296675\n",
       "city                     1296675\n",
       "state                    1296675\n",
       "zip                      1296675\n",
       "lat                      1296675\n",
       "long                     1296675\n",
       "city_pop                 1296675\n",
       "job                      1296675\n",
       "dob                      1296675\n",
       "trans_num                1296675\n",
       "unix_time                1296675\n",
       "merch_lat                1296675\n",
       "merch_long               1296675\n",
       "is_fraud                 1296675\n",
       "merch_zipcode            1100702\n",
       "dtype: int64"
      ]
     },
     "execution_count": 19,
     "metadata": {},
     "output_type": "execute_result"
    }
   ],
   "source": [
    "df.count()"
   ]
  },
  {
   "cell_type": "code",
   "execution_count": 21,
   "metadata": {},
   "outputs": [
    {
     "data": {
      "text/plain": [
       "Unnamed: 0               1100702\n",
       "trans_date_trans_time    1100702\n",
       "cc_num                   1100702\n",
       "merchant                 1100702\n",
       "category                 1100702\n",
       "amt                      1100702\n",
       "first                    1100702\n",
       "last                     1100702\n",
       "gender                   1100702\n",
       "street                   1100702\n",
       "city                     1100702\n",
       "state                    1100702\n",
       "zip                      1100702\n",
       "lat                      1100702\n",
       "long                     1100702\n",
       "city_pop                 1100702\n",
       "job                      1100702\n",
       "dob                      1100702\n",
       "trans_num                1100702\n",
       "unix_time                1100702\n",
       "merch_lat                1100702\n",
       "merch_long               1100702\n",
       "is_fraud                 1100702\n",
       "merch_zipcode            1100702\n",
       "dtype: int64"
      ]
     },
     "execution_count": 21,
     "metadata": {},
     "output_type": "execute_result"
    }
   ],
   "source": [
    "df = df.dropna()\n",
    "df.count()"
   ]
  },
  {
   "cell_type": "code",
   "execution_count": null,
   "metadata": {},
   "outputs": [
    {
     "data": {
      "text/plain": [
       "Unnamed: 0               1094339\n",
       "trans_date_trans_time    1094339\n",
       "cc_num                   1094339\n",
       "merchant                 1094339\n",
       "category                 1094339\n",
       "amt                      1094339\n",
       "first                    1094339\n",
       "last                     1094339\n",
       "gender                   1094339\n",
       "street                   1094339\n",
       "city                     1094339\n",
       "state                    1094339\n",
       "zip                      1094339\n",
       "lat                      1094339\n",
       "long                     1094339\n",
       "city_pop                 1094339\n",
       "job                      1094339\n",
       "dob                      1094339\n",
       "trans_num                1094339\n",
       "unix_time                1094339\n",
       "merch_lat                1094339\n",
       "merch_long               1094339\n",
       "is_fraud                 1094339\n",
       "merch_zipcode            1094339\n",
       "dtype: int64"
      ]
     },
     "execution_count": 27,
     "metadata": {},
     "output_type": "execute_result"
    }
   ],
   "source": [
    "fraud_df = df[df['is_fraud'] == 1]\n",
    "non_fraud_df = df[df['is_fraud'] == 0]\n",
    "\n",
    "X_train, X_test, y_train, y_test = train_test_split(X, y, test_size=0.2, random_state=42)"
   ]
  }
 ],
 "metadata": {
  "kernelspec": {
   "display_name": "Python 3",
   "language": "python",
   "name": "python3"
  },
  "language_info": {
   "codemirror_mode": {
    "name": "ipython",
    "version": 3
   },
   "file_extension": ".py",
   "mimetype": "text/x-python",
   "name": "python",
   "nbconvert_exporter": "python",
   "pygments_lexer": "ipython3",
   "version": "3.9.6"
  }
 },
 "nbformat": 4,
 "nbformat_minor": 2
}
